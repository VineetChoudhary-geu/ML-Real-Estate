{
 "cells": [
  {
   "cell_type": "code",
   "execution_count": 1,
   "id": "33a526ac",
   "metadata": {},
   "outputs": [],
   "source": [
    "from joblib import dump, load\n",
    "import numpy as np\n",
    "model = load('RealEstate.joblib')"
   ]
  },
  {
   "cell_type": "code",
   "execution_count": 15,
   "id": "7aa1b052",
   "metadata": {},
   "outputs": [
    {
     "data": {
      "text/plain": [
       "array([32.723])"
      ]
     },
     "execution_count": 15,
     "metadata": {},
     "output_type": "execute_result"
    }
   ],
   "source": [
    "data = np.array([[-0.43942006,  3.12628155, -1.12165014, -0.27288841, -1.42262747,\n",
    "       2.24298655, -1.31238772,  2.61111401, -1.0016859 , -0.58033668,\n",
    "       -0.97491834,  0.41164221, 1.86091034]])\n",
    "model.predict(data)"
   ]
  },
  {
   "cell_type": "markdown",
   "id": "6ae42a38",
   "metadata": {},
   "source": []
  }
 ],
 "metadata": {
  "kernelspec": {
   "display_name": "Python 3 (ipykernel)",
   "language": "python",
   "name": "python3"
  },
  "language_info": {
   "codemirror_mode": {
    "name": "ipython",
    "version": 3
   },
   "file_extension": ".py",
   "mimetype": "text/x-python",
   "name": "python",
   "nbconvert_exporter": "python",
   "pygments_lexer": "ipython3",
   "version": "3.9.1"
  }
 },
 "nbformat": 4,
 "nbformat_minor": 5
}
